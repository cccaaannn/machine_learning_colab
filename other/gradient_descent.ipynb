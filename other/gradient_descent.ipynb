{
  "nbformat": 4,
  "nbformat_minor": 0,
  "metadata": {
    "gist": {
      "data": {
        "description": "Gradient Descent-Python",
        "public": true
      },
      "id": ""
    },
    "hide_input": false,
    "kernelspec": {
      "display_name": "Python 3",
      "language": "python",
      "name": "python3"
    },
    "language_info": {
      "codemirror_mode": {
        "name": "ipython",
        "version": 3
      },
      "file_extension": ".py",
      "mimetype": "text/x-python",
      "name": "python",
      "nbconvert_exporter": "python",
      "pygments_lexer": "ipython3",
      "version": "3.6.6"
    },
    "toc": {
      "base_numbering": 1,
      "nav_menu": {},
      "number_sections": true,
      "sideBar": true,
      "skip_h1_title": false,
      "title_cell": "Table of Contents",
      "title_sidebar": "Contents",
      "toc_cell": false,
      "toc_position": {
        "height": "calc(100% - 180px)",
        "left": "10px",
        "top": "150px",
        "width": "279.233px"
      },
      "toc_section_display": true,
      "toc_window_display": true
    },
    "varInspector": {
      "cols": {
        "lenName": 16,
        "lenType": 16,
        "lenVar": 40
      },
      "kernels_config": {
        "python": {
          "delete_cmd_postfix": "",
          "delete_cmd_prefix": "del ",
          "library": "var_list.py",
          "varRefreshCmd": "print(var_dic_list())"
        },
        "r": {
          "delete_cmd_postfix": ") ",
          "delete_cmd_prefix": "rm(",
          "library": "var_list.r",
          "varRefreshCmd": "cat(var_dic_list()) "
        }
      },
      "position": {
        "height": "461.183px",
        "left": "846.167px",
        "right": "138.333px",
        "top": "127px",
        "width": "559.667px"
      },
      "types_to_exclude": [
        "module",
        "function",
        "builtin_function_or_method",
        "instance",
        "_Feature"
      ],
      "window_display": false
    },
    "colab": {
      "name": "gradient_descent.ipynb",
      "provenance": [],
      "collapsed_sections": [],
      "toc_visible": true,
      "include_colab_link": true
    }
  },
  "cells": [
    {
      "cell_type": "markdown",
      "metadata": {
        "id": "view-in-github",
        "colab_type": "text"
      },
      "source": [
        "<a href=\"https://colab.research.google.com/github/cccaaannn/machine_learning_colab/blob/master/other/gradient_descent.ipynb\" target=\"_parent\"><img src=\"https://colab.research.google.com/assets/colab-badge.svg\" alt=\"Open In Colab\"/></a>"
      ]
    },
    {
      "cell_type": "markdown",
      "metadata": {
        "id": "MvMJCdZGWbDW"
      },
      "source": [
        "imports"
      ]
    },
    {
      "cell_type": "code",
      "metadata": {
        "ExecuteTime": {
          "end_time": "2018-08-25T03:56:23.993097Z",
          "start_time": "2018-08-25T03:56:23.138209Z"
        },
        "id": "o5CXE1AQHODb"
      },
      "source": [
        "import numpy as np\n",
        "import matplotlib.pyplot as plt\n",
        "%matplotlib inline"
      ],
      "execution_count": 1,
      "outputs": []
    },
    {
      "cell_type": "markdown",
      "metadata": {
        "id": "6Fq4vUggWcsi"
      },
      "source": [
        "functions"
      ]
    },
    {
      "cell_type": "code",
      "metadata": {
        "ExecuteTime": {
          "end_time": "2018-08-25T03:56:25.180630Z",
          "start_time": "2018-08-25T03:56:25.172904Z"
        },
        "id": "DzMeXiWCHOD4"
      },
      "source": [
        "def  cal_cost(theta,X,y):\n",
        "    m = len(y)\n",
        "    predictions = X.dot(theta)\n",
        "    cost = (1/2*m) * np.sum(np.square(y-predictions))\n",
        "    return cost"
      ],
      "execution_count": 2,
      "outputs": []
    },
    {
      "cell_type": "code",
      "metadata": {
        "ExecuteTime": {
          "end_time": "2018-08-25T03:56:25.204130Z",
          "start_time": "2018-08-25T03:56:25.188272Z"
        },
        "id": "4Uj8LAQjHOD6"
      },
      "source": [
        "def gradient_descent(X,y,theta,iterations=100, learning_rate=0.01):\n",
        "    '''\n",
        "    X Matrix of X with added bias units\n",
        "    y Vector of Y\n",
        "    theta Vector of thetas np.random.randn(j,1)\n",
        "    '''\n",
        "    m = len(y)\n",
        "    costs = np.zeros(iterations)\n",
        "    for it in range(iterations):\n",
        "        prediction = np.dot(X, theta)\n",
        "        theta = theta -(1/m)*learning_rate*( X.T.dot((prediction - y)))\n",
        "        costs[it]  = cal_cost(theta,X,y)\n",
        "    return theta, costs"
      ],
      "execution_count": 3,
      "outputs": []
    },
    {
      "cell_type": "markdown",
      "metadata": {
        "id": "JRgFsWx-WNnr"
      },
      "source": [
        "options"
      ]
    },
    {
      "cell_type": "code",
      "metadata": {
        "id": "Rra1rHN7T2Qr"
      },
      "source": [
        "nr_iterations = 300\n",
        "nr_random_data = 100"
      ],
      "execution_count": 5,
      "outputs": []
    },
    {
      "cell_type": "markdown",
      "metadata": {
        "id": "ALn18q5aUAEy"
      },
      "source": [
        "generate random data"
      ]
    },
    {
      "cell_type": "code",
      "metadata": {
        "id": "YwTbPOEwMHvB"
      },
      "source": [
        "X = 2 * np.random.rand(nr_random_data, 1)\n",
        "y = 4 +3 * X+np.random.randn(nr_random_data, 1)\n",
        "\n",
        "fig,ax = plt.subplots()\n",
        "_ = ax.plot(X,y, \"b.\")"
      ],
      "execution_count": null,
      "outputs": []
    },
    {
      "cell_type": "markdown",
      "metadata": {
        "id": "rvb0WT1QWHnF"
      },
      "source": [
        "using the gradient descent"
      ]
    },
    {
      "cell_type": "code",
      "metadata": {
        "ExecuteTime": {
          "end_time": "2018-08-25T03:56:27.126960Z",
          "start_time": "2018-08-25T03:56:27.062811Z"
        },
        "scrolled": false,
        "id": "TxQp71_BHOD9"
      },
      "source": [
        "theta = np.random.randn(2,1)\n",
        "X_with_bias = np.c_[np.ones((len(X),1)),X]\n",
        "\n",
        "theta, cost_history  = gradient_descent(X_with_bias, y, theta, iterations=nr_iterations)"
      ],
      "execution_count": 9,
      "outputs": []
    },
    {
      "cell_type": "markdown",
      "metadata": {
        "id": "yT_Y6tiYVgsQ"
      },
      "source": [
        "draw coast history"
      ]
    },
    {
      "cell_type": "code",
      "metadata": {
        "ExecuteTime": {
          "end_time": "2018-08-25T04:01:31.912400Z",
          "start_time": "2018-08-25T04:01:31.604459Z"
        },
        "scrolled": false,
        "id": "nxYxNzJuHOD_"
      },
      "source": [
        "fig,ax = plt.subplots(figsize=(12,8))\n",
        "\n",
        "ax.set_ylabel('J(Theta)')\n",
        "ax.set_xlabel('Iterations')\n",
        "_=ax.plot(range(nr_iterations),cost_history,'b.')"
      ],
      "execution_count": null,
      "outputs": []
    },
    {
      "cell_type": "markdown",
      "metadata": {
        "id": "GSVNcP_mVcmx"
      },
      "source": [
        "draw predicted line"
      ]
    },
    {
      "cell_type": "code",
      "metadata": {
        "id": "0PksoQeYRFf9"
      },
      "source": [
        "pred = X_with_bias.dot(theta)\n",
        "fig,ax = plt.subplots()\n",
        "_ = ax.plot(X,y,'b.')\n",
        "_ = ax.plot(X,pred,'r-') "
      ],
      "execution_count": null,
      "outputs": []
    }
  ]
}