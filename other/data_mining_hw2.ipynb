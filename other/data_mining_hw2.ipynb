{
  "nbformat": 4,
  "nbformat_minor": 0,
  "metadata": {
    "colab": {
      "name": "data_mining_hw2",
      "provenance": [],
      "collapsed_sections": [],
      "authorship_tag": "ABX9TyNgerETOvOnKg4h/okiKxus",
      "include_colab_link": true
    },
    "kernelspec": {
      "name": "python3",
      "display_name": "Python 3"
    }
  },
  "cells": [
    {
      "cell_type": "markdown",
      "metadata": {
        "id": "view-in-github",
        "colab_type": "text"
      },
      "source": [
        "<a href=\"https://colab.research.google.com/github/cccaaannn/machine_learning_colab/blob/master/other/data_mining_hw2.ipynb\" target=\"_parent\"><img src=\"https://colab.research.google.com/assets/colab-badge.svg\" alt=\"Open In Colab\"/></a>"
      ]
    },
    {
      "cell_type": "markdown",
      "metadata": {
        "id": "J7mbQRepeReQ"
      },
      "source": [
        "Testing the baseline "
      ]
    },
    {
      "cell_type": "markdown",
      "metadata": {
        "id": "mWC2FkPMXYoy"
      },
      "source": [
        "connect to drive"
      ]
    },
    {
      "cell_type": "code",
      "metadata": {
        "id": "aCGsYsZI6Lz7"
      },
      "source": [
        "from google.colab import drive\n",
        "drive.mount('/content/drive')"
      ],
      "execution_count": null,
      "outputs": []
    },
    {
      "cell_type": "markdown",
      "metadata": {
        "id": "How57L0UXrOX"
      },
      "source": [
        "\n",
        "unzip dataset"
      ]
    },
    {
      "cell_type": "code",
      "metadata": {
        "id": "myq0kXBeXa4J"
      },
      "source": [
        "!unzip /content/drive/My\\ Drive/datasets/house-prices-advanced-regression-techniques.zip"
      ],
      "execution_count": null,
      "outputs": []
    },
    {
      "cell_type": "markdown",
      "metadata": {
        "id": "kaPWAUEdXrB8"
      },
      "source": [
        "imports"
      ]
    },
    {
      "cell_type": "code",
      "metadata": {
        "id": "4mZsnTCqXa14"
      },
      "source": [
        "import numpy as np\n",
        "import pandas as pd"
      ],
      "execution_count": 4,
      "outputs": []
    },
    {
      "cell_type": "markdown",
      "metadata": {
        "id": "CYzxpoQQXqpm"
      },
      "source": [
        "\n",
        "Load the data"
      ]
    },
    {
      "cell_type": "code",
      "metadata": {
        "id": "URpPAAb8Xaza"
      },
      "source": [
        "train_data = pd.read_csv(\"train.csv\", index_col=0)\n",
        "test_data = pd.read_csv(\"test.csv\", index_col=0)"
      ],
      "execution_count": null,
      "outputs": []
    },
    {
      "cell_type": "markdown",
      "metadata": {
        "id": "aNjvDOYaeGZh"
      },
      "source": [
        "find average"
      ]
    },
    {
      "cell_type": "code",
      "metadata": {
        "id": "qqt2wR-daEjt"
      },
      "source": [
        "average = train_data[\"SalePrice\"].mean()"
      ],
      "execution_count": 8,
      "outputs": []
    },
    {
      "cell_type": "markdown",
      "metadata": {
        "id": "Idb1N8pjeIlT"
      },
      "source": [
        "to dataframe"
      ]
    },
    {
      "cell_type": "code",
      "metadata": {
        "id": "DqxIChgEbmGB"
      },
      "source": [
        "averages = [average] * len(test_data)\n",
        "ids = test_data.index\n",
        "dic = {\"Id\" : ids, \"SalePrice\" : averages}\n",
        "df = pd.DataFrame(dic)"
      ],
      "execution_count": 21,
      "outputs": []
    },
    {
      "cell_type": "markdown",
      "metadata": {
        "id": "0xpmroqpeLrN"
      },
      "source": [
        "save dataframe"
      ]
    },
    {
      "cell_type": "code",
      "metadata": {
        "id": "HdcCRgSjaW8P"
      },
      "source": [
        "df.to_csv(\"submission.csv\", sep=',', index=False)"
      ],
      "execution_count": 24,
      "outputs": []
    }
  ]
}