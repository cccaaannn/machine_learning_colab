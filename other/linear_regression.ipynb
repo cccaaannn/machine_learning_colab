{
  "nbformat": 4,
  "nbformat_minor": 0,
  "metadata": {
    "colab": {
      "name": "linear_regression",
      "provenance": [],
      "collapsed_sections": [],
      "authorship_tag": "ABX9TyPmNnzKUtSTdsnG0hywX5tj",
      "include_colab_link": true
    },
    "kernelspec": {
      "name": "python3",
      "display_name": "Python 3"
    }
  },
  "cells": [
    {
      "cell_type": "markdown",
      "metadata": {
        "id": "view-in-github",
        "colab_type": "text"
      },
      "source": [
        "<a href=\"https://colab.research.google.com/github/cccaaannn/machine_learning_colab/blob/master/linear_regression.ipynb\" target=\"_parent\"><img src=\"https://colab.research.google.com/assets/colab-badge.svg\" alt=\"Open In Colab\"/></a>"
      ]
    },
    {
      "cell_type": "markdown",
      "metadata": {
        "id": "RvWCuBGdVcwQ",
        "colab_type": "text"
      },
      "source": [
        "Dataset url\n",
        "\n",
        "https://www.kaggle.com/c/house-prices-advanced-regression-techniques/data"
      ]
    },
    {
      "cell_type": "markdown",
      "metadata": {
        "id": "aFDcbLArVm5C",
        "colab_type": "text"
      },
      "source": [
        "connect to drive"
      ]
    },
    {
      "cell_type": "code",
      "metadata": {
        "id": "5FPmFFx5Rmpg",
        "colab_type": "code",
        "colab": {}
      },
      "source": [
        "from google.colab import drive\n",
        "drive.mount('/content/drive')"
      ],
      "execution_count": 0,
      "outputs": []
    },
    {
      "cell_type": "markdown",
      "metadata": {
        "id": "N9LxnrQzVkgB",
        "colab_type": "text"
      },
      "source": [
        "unzip dataset"
      ]
    },
    {
      "cell_type": "code",
      "metadata": {
        "id": "mscK9wXclLb9",
        "colab_type": "code",
        "colab": {}
      },
      "source": [
        "!unzip /content/drive/My\\ Drive/datasets/house-prices-advanced-regression-techniques.zip"
      ],
      "execution_count": 0,
      "outputs": []
    },
    {
      "cell_type": "markdown",
      "metadata": {
        "id": "T-rUEZ2SVjOD",
        "colab_type": "text"
      },
      "source": [
        "imports"
      ]
    },
    {
      "cell_type": "code",
      "metadata": {
        "id": "-hNC_NYgSjQj",
        "colab_type": "code",
        "colab": {}
      },
      "source": [
        "import sklearn\n",
        "from sklearn import linear_model\n",
        "from sklearn.utils import shuffle\n",
        "\n",
        "import numpy as np\n",
        "import pandas as pd\n",
        "\n",
        "import matplotlib.pyplot as plt\n",
        "from matplotlib import style\n",
        "import seaborn as sns\n",
        "%matplotlib inline\n",
        "\n",
        "import pickle"
      ],
      "execution_count": 0,
      "outputs": []
    },
    {
      "cell_type": "markdown",
      "metadata": {
        "id": "JTLdWLb7fvf9",
        "colab_type": "text"
      },
      "source": [
        "Load and shuffle the data"
      ]
    },
    {
      "cell_type": "code",
      "metadata": {
        "id": "0oishwSkSqA8",
        "colab_type": "code",
        "colab": {}
      },
      "source": [
        "train_data = pd.read_csv(\"train.csv\", index_col=0)\n",
        "train_data = shuffle(train_data)\n",
        "\n",
        "test_data = pd.read_csv(\"test.csv\", index_col=0)\n",
        "test_data = shuffle(test_data)\n",
        "\n",
        "train_data.head()"
      ],
      "execution_count": 0,
      "outputs": []
    },
    {
      "cell_type": "markdown",
      "metadata": {
        "id": "l8wka_I5fRjp",
        "colab_type": "text"
      },
      "source": [
        "Plot all vs salesprices"
      ]
    },
    {
      "cell_type": "code",
      "metadata": {
        "id": "ZvnHD9fnad2c",
        "colab_type": "code",
        "colab": {}
      },
      "source": [
        "headers = list(train_data.drop(\"SalePrice\",axis=1))\n",
        "for header in headers:\n",
        "  sns.scatterplot(x=header, y='SalePrice', data=train_data)\n",
        "  plt.show()"
      ],
      "execution_count": 0,
      "outputs": []
    },
    {
      "cell_type": "code",
      "metadata": {
        "id": "OYmhlFptWo7A",
        "colab_type": "code",
        "colab": {}
      },
      "source": [
        "sns.scatterplot(x='GrLivArea', y='SalePrice', data=train_data)\n",
        "plt.show()"
      ],
      "execution_count": 0,
      "outputs": []
    },
    {
      "cell_type": "markdown",
      "metadata": {
        "id": "k3nvdp_Ag8mm",
        "colab_type": "text"
      },
      "source": [
        "Split train and test data"
      ]
    },
    {
      "cell_type": "code",
      "metadata": {
        "id": "waaTTDiCULDo",
        "colab_type": "code",
        "colab": {}
      },
      "source": [
        "train_x = train_data[[\"GrLivArea\",\"GarageArea\"]]\n",
        "train_y = train_data[\"SalePrice\"]\n",
        "\n",
        "test_x = train_data[[\"GrLivArea\",\"GarageArea\"]]\n",
        "test_y = train_data[\"SalePrice\"]"
      ],
      "execution_count": 0,
      "outputs": []
    },
    {
      "cell_type": "markdown",
      "metadata": {
        "id": "F37PScpNkLDV",
        "colab_type": "text"
      },
      "source": [
        "Reshape data (sklearn LinearRegression expects X (n_samples,n_futures) Y (n_samples, n_targets))"
      ]
    },
    {
      "cell_type": "code",
      "metadata": {
        "id": "wVWT2MPyiBen",
        "colab_type": "code",
        "colab": {}
      },
      "source": [
        "train_x = np.array(train_x).reshape(-1, 2)\n",
        "train_y =np.array(train_y)\n",
        "\n",
        "test_x = np.array(test_x).reshape(-1, 2)\n",
        "test_y =np.array(test_y)"
      ],
      "execution_count": 0,
      "outputs": []
    },
    {
      "cell_type": "markdown",
      "metadata": {
        "id": "n-Wa_cZZgGuT",
        "colab_type": "text"
      },
      "source": [
        "Instantiate model"
      ]
    },
    {
      "cell_type": "code",
      "metadata": {
        "id": "5tsw_LaIgK9i",
        "colab_type": "code",
        "colab": {}
      },
      "source": [
        "model = linear_model.LinearRegression()"
      ],
      "execution_count": 0,
      "outputs": []
    },
    {
      "cell_type": "markdown",
      "metadata": {
        "id": "9JBFPvC9lZjD",
        "colab_type": "text"
      },
      "source": [
        "Fit"
      ]
    },
    {
      "cell_type": "code",
      "metadata": {
        "id": "R68AmU6QgSNk",
        "colab_type": "code",
        "colab": {}
      },
      "source": [
        "model.fit(train_x, train_y)"
      ],
      "execution_count": 0,
      "outputs": []
    },
    {
      "cell_type": "markdown",
      "metadata": {
        "id": "XRJXtfLflfOn",
        "colab_type": "text"
      },
      "source": [
        "Test accuracy score"
      ]
    },
    {
      "cell_type": "code",
      "metadata": {
        "id": "WYVAcfbKgYGP",
        "colab_type": "code",
        "colab": {}
      },
      "source": [
        "acc = model.score(test_x, test_y)\n",
        "print(\"Accuracy: \" + str(acc))"
      ],
      "execution_count": 0,
      "outputs": []
    }
  ]
}