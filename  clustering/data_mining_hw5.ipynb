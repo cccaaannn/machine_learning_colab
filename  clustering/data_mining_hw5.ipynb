{
  "nbformat": 4,
  "nbformat_minor": 0,
  "metadata": {
    "colab": {
      "name": "data_mining_hw5",
      "provenance": [],
      "collapsed_sections": [],
      "toc_visible": true,
      "include_colab_link": true
    },
    "kernelspec": {
      "display_name": "Python 3",
      "name": "python3"
    }
  },
  "cells": [
    {
      "cell_type": "markdown",
      "metadata": {
        "id": "view-in-github",
        "colab_type": "text"
      },
      "source": [
        "<a href=\"https://colab.research.google.com/github/cccaaannn/machine_learning_colab/blob/master/%20clustering/data_mining_hw5.ipynb\" target=\"_parent\"><img src=\"https://colab.research.google.com/assets/colab-badge.svg\" alt=\"Open In Colab\"/></a>"
      ]
    },
    {
      "cell_type": "markdown",
      "metadata": {
        "id": "cD_7NlJVs25z"
      },
      "source": [
        "download dataset"
      ]
    },
    {
      "cell_type": "code",
      "metadata": {
        "id": "TOH9Zm0W2eYS"
      },
      "source": [
        "!wget https://archive.ics.uci.edu/ml/machine-learning-databases/iris/iris.data"
      ],
      "execution_count": null,
      "outputs": []
    },
    {
      "cell_type": "markdown",
      "metadata": {
        "id": "3k5YgKB_s40z"
      },
      "source": [
        "install extra 3d plot lib"
      ]
    },
    {
      "cell_type": "code",
      "metadata": {
        "id": "lStExmaZ2sL_"
      },
      "source": [
        "!pip install plotly_express"
      ],
      "execution_count": null,
      "outputs": []
    },
    {
      "cell_type": "markdown",
      "metadata": {
        "id": "bAxR9hpws8d8"
      },
      "source": [
        "imports"
      ]
    },
    {
      "cell_type": "code",
      "metadata": {
        "id": "Ddg-h4F6EjNR"
      },
      "source": [
        "from sklearn.cluster import KMeans\r\n",
        "\r\n",
        "import numpy as np\r\n",
        "import pandas as pd\r\n",
        "\r\n",
        "import matplotlib.pyplot as plt\r\n",
        "import plotly_express as px"
      ],
      "execution_count": 3,
      "outputs": []
    },
    {
      "cell_type": "markdown",
      "metadata": {
        "id": "XTkC35Cds9iH"
      },
      "source": [
        "read data"
      ]
    },
    {
      "cell_type": "code",
      "metadata": {
        "id": "L6QXpMtv2tcf"
      },
      "source": [
        "data = pd.read_csv(\"iris.data\", names=[\"sepal length\", \"sepal width\", \"petal length\", \"petal width\", \"class\"])"
      ],
      "execution_count": 4,
      "outputs": []
    },
    {
      "cell_type": "markdown",
      "metadata": {
        "id": "JYFP-huls-aK"
      },
      "source": [
        "separete train data"
      ]
    },
    {
      "cell_type": "code",
      "metadata": {
        "id": "X-e4DmcM2tXk"
      },
      "source": [
        "x = data.drop([\"class\"], axis=1).values"
      ],
      "execution_count": 5,
      "outputs": []
    },
    {
      "cell_type": "code",
      "metadata": {
        "id": "3nSIzgFX2tZ8"
      },
      "source": [
        "data.head()"
      ],
      "execution_count": null,
      "outputs": []
    },
    {
      "cell_type": "markdown",
      "metadata": {
        "id": "dax8zx9qtEvi"
      },
      "source": [
        "train and predict"
      ]
    },
    {
      "cell_type": "code",
      "metadata": {
        "id": "Ep5EAn-KEjUf"
      },
      "source": [
        "preds = []\r\n",
        "for i in range(5):\r\n",
        "    kmeans = KMeans(n_clusters=3, n_init=1, max_iter=30, init=\"random\")\r\n",
        "    kmeans.fit(x)\r\n",
        "    pred = kmeans.predict(x)\r\n",
        "    preds.append(pred)\r\n",
        "    print(\"run:{0} cluster points\\n1: {1}\\n2: {2}\\n3: {3}\\n\".format(i, x[pred == 0].shape[0], x[pred == 1].shape[0], x[pred == 2].shape[0]))"
      ],
      "execution_count": null,
      "outputs": []
    },
    {
      "cell_type": "markdown",
      "metadata": {
        "id": "56YiiPIQtGvE"
      },
      "source": [
        "plot graphs"
      ]
    },
    {
      "cell_type": "code",
      "metadata": {
        "id": "OUU_EtMsOtKr"
      },
      "source": [
        "px.scatter_3d(data, x=\"petal length\", y=\"petal width\", z=\"sepal length\", size=\"sepal width\", color=preds[4])"
      ],
      "execution_count": null,
      "outputs": []
    },
    {
      "cell_type": "code",
      "metadata": {
        "id": "28lgjnzh-EHV"
      },
      "source": [
        "px.scatter_3d(data, x=\"petal length\", y=\"petal width\", z=\"sepal length\", size=\"sepal width\", color=\"class\")"
      ],
      "execution_count": null,
      "outputs": []
    }
  ]
}