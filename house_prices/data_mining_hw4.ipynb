{
  "nbformat": 4,
  "nbformat_minor": 0,
  "metadata": {
    "colab": {
      "name": "data_mining_hw4",
      "provenance": [],
      "collapsed_sections": [],
      "toc_visible": true,
      "include_colab_link": true
    },
    "kernelspec": {
      "display_name": "Python 3",
      "name": "python3"
    }
  },
  "cells": [
    {
      "cell_type": "markdown",
      "metadata": {
        "id": "view-in-github",
        "colab_type": "text"
      },
      "source": [
        "<a href=\"https://colab.research.google.com/github/cccaaannn/machine_learning_colab/blob/master/house_prices/data_mining_hw4.ipynb\" target=\"_parent\"><img src=\"https://colab.research.google.com/assets/colab-badge.svg\" alt=\"Open In Colab\"/></a>"
      ]
    },
    {
      "cell_type": "markdown",
      "metadata": {
        "id": "mWC2FkPMXYoy"
      },
      "source": [
        "connect to drive"
      ]
    },
    {
      "cell_type": "code",
      "metadata": {
        "id": "aCGsYsZI6Lz7"
      },
      "source": [
        "from google.colab import drive\n",
        "drive.mount('/content/drive')"
      ],
      "execution_count": null,
      "outputs": []
    },
    {
      "cell_type": "markdown",
      "metadata": {
        "id": "How57L0UXrOX"
      },
      "source": [
        "\n",
        "unzip dataset"
      ]
    },
    {
      "cell_type": "code",
      "metadata": {
        "id": "myq0kXBeXa4J"
      },
      "source": [
        "!unzip /content/drive/My\\ Drive/datasets/house-prices-advanced-regression-techniques.zip"
      ],
      "execution_count": null,
      "outputs": []
    },
    {
      "cell_type": "markdown",
      "metadata": {
        "id": "kaPWAUEdXrB8"
      },
      "source": [
        "imports"
      ]
    },
    {
      "cell_type": "code",
      "metadata": {
        "id": "4mZsnTCqXa14"
      },
      "source": [
        "import numpy as np\n",
        "import pandas as pd\n",
        "\n",
        "from sklearn.model_selection import train_test_split\n",
        "from sklearn.preprocessing import MinMaxScaler\n",
        "from sklearn.metrics import mean_squared_error, mean_absolute_error, mean_squared_log_error\n",
        "\n",
        "from sklearn.linear_model import LinearRegression\n",
        "from sklearn.tree import DecisionTreeRegressor\n",
        "\n",
        "from scipy.stats import stats\n",
        "from sklearn import tree\n",
        "from IPython.display import Image \n",
        "import pydotplus"
      ],
      "execution_count": 3,
      "outputs": []
    },
    {
      "cell_type": "markdown",
      "metadata": {
        "id": "u0CxlcuZLLTi"
      },
      "source": [
        "error functions"
      ]
    },
    {
      "cell_type": "code",
      "metadata": {
        "id": "oVGqi_F1pO9H"
      },
      "source": [
        "def mean_absolute_percentage_error(y_true, y_pred): \n",
        "    return np.mean(np.abs((y_true - y_pred) / y_true)) * 100\n",
        "def kaggle_score(y_true,y_pred):\n",
        "    return np.sqrt(mean_squared_log_error(y_true, y_pred))\n",
        "def print_errors(y_true, y_pred):\n",
        "    print(\"mae:\", mean_absolute_error(y_true, y_pred))\n",
        "    print(\"mape:\", mean_absolute_percentage_error(y_true, y_pred))\n",
        "    print(\"kaggle-score:\", kaggle_score(y_true, y_pred))"
      ],
      "execution_count": 4,
      "outputs": []
    },
    {
      "cell_type": "markdown",
      "metadata": {
        "id": "CYzxpoQQXqpm"
      },
      "source": [
        "\n",
        "Load the data"
      ]
    },
    {
      "cell_type": "code",
      "metadata": {
        "id": "URpPAAb8Xaza"
      },
      "source": [
        "train_data = pd.read_csv(\"train.csv\", index_col=0)\n",
        "test_data = pd.read_csv(\"test.csv\", index_col=0)"
      ],
      "execution_count": 5,
      "outputs": []
    },
    {
      "cell_type": "markdown",
      "metadata": {
        "id": "IQsNbEtGLJ2n"
      },
      "source": [
        "Pearson correlation"
      ]
    },
    {
      "cell_type": "code",
      "metadata": {
        "id": "n93IMM3vJF_C"
      },
      "source": [
        "p_value_threshold = 0.05\n",
        "\n",
        "num_cols = train_data._get_numeric_data().columns\n",
        "pearson_corrs = []\n",
        "for col in num_cols:\n",
        "    s = stats.pearsonr(train_data.fillna(train_data.mean())[col], train_data['SalePrice'])\n",
        "    if(s[1] < p_value_threshold):\n",
        "        pearson_corrs.append((col, s[0], s[1]))\n",
        "\n",
        "pearson_corrs = sorted(pearson_corrs, reverse=True, key=lambda tup: abs(tup[1]))\n",
        "\n",
        "for i in pearson_corrs:\n",
        "    print(\"columns: {0:<12} correlation: {1:<22} p-values: {2:<22}\".format(i[0], i[1], i[2]))"
      ],
      "execution_count": null,
      "outputs": []
    },
    {
      "cell_type": "markdown",
      "metadata": {
        "id": "7jwxR9x4LZkt"
      },
      "source": [
        "select columns"
      ]
    },
    {
      "cell_type": "code",
      "metadata": {
        "id": "tec15GufvSpP"
      },
      "source": [
        "# x_columns = [\"OverallQual\", \"GrLivArea\", \"GarageCars\",\"GarageArea\"]\n",
        "x_columns = [\"OverallQual\", \"GrLivArea\", \"GarageCars\", \"GarageArea\", \"TotalBsmtSF\", \"1stFlrSF\", \"FullBath\", \"TotRmsAbvGrd\", \"YearBuilt\", \"YearRemodAdd\", \"MasVnrArea\", \"GarageYrBlt\", \"Fireplaces\", \"BsmtFinSF1\"] \n",
        "y_column = 'SalePrice'\n",
        "train_data[x_columns].head()"
      ],
      "execution_count": null,
      "outputs": []
    },
    {
      "cell_type": "markdown",
      "metadata": {
        "id": "uP4PNdg7Lcew"
      },
      "source": [
        "split train and validation"
      ]
    },
    {
      "cell_type": "code",
      "metadata": {
        "id": "ugitR70bxm9a"
      },
      "source": [
        "# x = train_data.loc[:,x_columns]\n",
        "# x = train_data.drop(y_column, axis=1)\n",
        "# x = pd.get_dummies(x)\n",
        "\n",
        "x = train_data.loc[:, x_columns]\n",
        "y = train_data.loc[:, y_column]\n",
        "\n",
        "x_test = test_data.loc[:, x_columns]\n",
        "\n",
        "x_train, x_val, y_train, y_val = train_test_split(x, y, test_size=0.2)"
      ],
      "execution_count": 8,
      "outputs": []
    },
    {
      "cell_type": "markdown",
      "metadata": {
        "id": "cPcCIfuyLlCX"
      },
      "source": [
        "MinMaxScaler"
      ]
    },
    {
      "cell_type": "code",
      "metadata": {
        "id": "etkWMRCm2AGl"
      },
      "source": [
        "x_train = x_train.fillna(x_train.mean())\n",
        "x_val = x_val.fillna(x_val.mean())\n",
        "x_test = x_test.fillna(x_test.mean())\n",
        "\n",
        "scaler = MinMaxScaler().fit(x_train)\n",
        "x_train_scaled = scaler.transform(x_train)\n",
        "x_val_scaled = scaler.transform(x_val)\n",
        "x_test_scaled = scaler.transform(x_test)"
      ],
      "execution_count": 9,
      "outputs": []
    },
    {
      "cell_type": "markdown",
      "metadata": {
        "id": "mtrel9qfLmtc"
      },
      "source": [
        "LinearRegression"
      ]
    },
    {
      "cell_type": "code",
      "metadata": {
        "id": "1PpHCQTipO6k"
      },
      "source": [
        "linear_regression_model = LinearRegression()\n",
        "linear_regression_model.fit(x_train_scaled, y_train)\n",
        "linear_regression_val_predictions = linear_regression_model.predict(x_val_scaled)\n",
        "\n",
        "print_errors(y_val, linear_regression_val_predictions)"
      ],
      "execution_count": null,
      "outputs": []
    },
    {
      "cell_type": "markdown",
      "metadata": {
        "id": "wCbWIvXkT5GV"
      },
      "source": [
        "Linear regression coefs"
      ]
    },
    {
      "cell_type": "code",
      "metadata": {
        "id": "FG4MM-QtNi84"
      },
      "source": [
        "coefs = pd.DataFrame({\"Feature\": x_train.columns.tolist(), \"Coefficients\": linear_regression_model.coef_})"
      ],
      "execution_count": null,
      "outputs": []
    },
    {
      "cell_type": "markdown",
      "metadata": {
        "id": "T1ja97uNSirm"
      },
      "source": [
        "Linear regression equation"
      ]
    },
    {
      "cell_type": "code",
      "metadata": {
        "id": "lLWXLgQaRmF5"
      },
      "source": [
        "print(\"Y = \", end=\"\")\n",
        "for column, coef in zip(x_train.columns.tolist(), linear_regression_model.coef_):\n",
        "  print(\"{0}*({1:.2f})\".format(column, coef), end=\" + \")\n",
        "linear_regression_model.intercept_"
      ],
      "execution_count": null,
      "outputs": []
    },
    {
      "cell_type": "markdown",
      "metadata": {
        "id": "iNrO1QOwLsZg"
      },
      "source": [
        "DecisionTreeRegressor"
      ]
    },
    {
      "cell_type": "code",
      "metadata": {
        "id": "U3KBKJ6ipIWY"
      },
      "source": [
        "tree_regression_model = DecisionTreeRegressor(max_depth=8)\n",
        "tree_regression_model.fit(x_train_scaled, y_train)\n",
        "tree_regression_val_predictions = tree_regression_model.predict(x_val_scaled)\n",
        "\n",
        "print_errors(y_val, tree_regression_val_predictions)"
      ],
      "execution_count": null,
      "outputs": []
    },
    {
      "cell_type": "markdown",
      "metadata": {
        "id": "VJJCdDjdLykZ"
      },
      "source": [
        "show the tree"
      ]
    },
    {
      "cell_type": "code",
      "metadata": {
        "id": "-Hf3QYfX3XZ6"
      },
      "source": [
        "dot_data = tree.export_graphviz(tree_regression_model, out_file=None) \n",
        "graph = pydotplus.graph_from_dot_data(dot_data)  \n",
        "Image(graph.create_png())"
      ],
      "execution_count": null,
      "outputs": []
    },
    {
      "cell_type": "markdown",
      "metadata": {
        "id": "Idb1N8pjeIlT"
      },
      "source": [
        "test predictions"
      ]
    },
    {
      "cell_type": "code",
      "metadata": {
        "id": "NKrbDB-FpO4D"
      },
      "source": [
        "test_predictions = linear_regression_model.predict(x_test_scaled)\n",
        "linear_regression_test_predictions = pd.DataFrame({\"Id\" : test_data.index, \"SalePrice\" : test_predictions.astype(np.int32)})\n",
        "\n",
        "test_predictions = tree_regression_model.predict(x_test_scaled)\n",
        "tree_regression_test_predictions = pd.DataFrame({\"Id\" : test_data.index, \"SalePrice\" : test_predictions.astype(np.int32)})"
      ],
      "execution_count": null,
      "outputs": []
    },
    {
      "cell_type": "markdown",
      "metadata": {
        "id": "0xpmroqpeLrN"
      },
      "source": [
        "save test predicitons"
      ]
    },
    {
      "cell_type": "code",
      "metadata": {
        "id": "HdcCRgSjaW8P"
      },
      "source": [
        "linear_regression_test_predictions.to_csv(\"linear_regression_test_predictions.csv\", sep=',', index=False)\n",
        "tree_regression_test_predictions.to_csv(\"tree_regression_test_predictions.csv\", sep=',', index=False)"
      ],
      "execution_count": null,
      "outputs": []
    }
  ]
}