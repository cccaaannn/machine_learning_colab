{
  "nbformat": 4,
  "nbformat_minor": 0,
  "metadata": {
    "colab": {
      "name": "data_mining_hw1",
      "provenance": [],
      "collapsed_sections": [],
      "toc_visible": true,
      "include_colab_link": true
    },
    "kernelspec": {
      "display_name": "Python 3",
      "name": "python3"
    }
  },
  "cells": [
    {
      "cell_type": "markdown",
      "metadata": {
        "id": "view-in-github",
        "colab_type": "text"
      },
      "source": [
        "<a href=\"https://colab.research.google.com/github/cccaaannn/machine_learning_colab/blob/master/feature_selection/data_mining_hw1.ipynb\" target=\"_parent\"><img src=\"https://colab.research.google.com/assets/colab-badge.svg\" alt=\"Open In Colab\"/></a>"
      ]
    },
    {
      "cell_type": "markdown",
      "metadata": {
        "id": "npbl5nInixxh"
      },
      "source": [
        "**Questions**"
      ]
    },
    {
      "cell_type": "markdown",
      "metadata": {
        "id": "EQFBuF9q3Y7q"
      },
      "source": [
        "- Find out whether attributes are categorical or numeric.\n",
        "\n",
        "- Understand the meaning of each attribute.\n",
        "\n",
        "- Look at some summary statistics of each attribute (such as mean, min, max, etc.)\n",
        "\n",
        "- Find out the correlations between numerical attributes. Which of them are highly correlated? Is this correlation meaningful? Which of the attributes are highly correlated with the class attribute? You can use boxplots for exploring the relations between categorical attibutes and the class attribute.\n",
        "\n",
        "- Find out the percentage of missing data for each attribute.\n",
        "\n",
        "- Find out duplicate data if there are any.\n",
        "\n",
        "- Plot histograms and box plots of the attributes. These will give an idea about the distribution of the attribute values.\n",
        "\n",
        "- Do you think there are any errors or some strange data?\n",
        "\n",
        "- Report some interesting findings if you found any.\n",
        "​​​​​\n"
      ]
    },
    {
      "cell_type": "markdown",
      "metadata": {
        "id": "l_YwOXCuiY_y"
      },
      "source": [
        "**Attributes**"
      ]
    },
    {
      "cell_type": "markdown",
      "metadata": {
        "id": "rh1BTC6v-fWZ"
      },
      "source": [
        "1 school - student's school (binary: 'GP' - Gabriel Pereira or 'MS' - Mousinho da Silveira)\n",
        "\n",
        "2 sex - student's sex (binary: 'F' - female or 'M' - male)\n",
        "\n",
        "3 age - student's age (numeric: from 15 to 22)\n",
        "\n",
        "4 address - student's home address type (binary: 'U' - urban or 'R' - rural)\n",
        "\n",
        "5 famsize - family size (binary: 'LE3' - less or equal to 3 or 'GT3' - greater than 3)\n",
        "\n",
        "6 Pstatus - parent's cohabitation status (binary: 'T' - living together or 'A' - apart)\n",
        "\n",
        "7 Medu - mother's education (numeric: 0 - none, 1 - primary education (4th grade), 2 â€“ 5th to 9th grade, 3 â€“ secondary education or 4 â€“ higher education)\n",
        "\n",
        "8 Fedu - father's education (numeric: 0 - none, 1 - primary education (4th grade), 2 â€“ 5th to 9th grade, 3 â€“ secondary education or 4 â€“ higher education)\n",
        "\n",
        "9 Mjob - mother's job (nominal: 'teacher', 'health' care related, civil 'services' (e.g. administrative or police), 'at_home' or 'other')\n",
        "\n",
        "10 Fjob - father's job (nominal: 'teacher', 'health' care related, civil 'services' (e.g. administrative or police), 'at_home' or 'other')\n",
        "\n",
        "11 reason - reason to choose this school (nominal: close to 'home', school 'reputation', 'course' preference or 'other')\n",
        "\n",
        "12 guardian - student's guardian (nominal: 'mother', 'father' or 'other')\n",
        "\n",
        "13 traveltime - home to school travel time (numeric: 1 - <15 min., 2 - 15 to 30 min., 3 - 30 min. to 1 hour, or 4 - >1 hour)\n",
        "\n",
        "14 studytime - weekly study time (numeric: 1 - <2 hours, 2 - 2 to 5 hours, 3 - 5 to 10 hours, or 4 - >10 hours)\n",
        "\n",
        "15 failures - number of past class failures (numeric: n if 1<=n<3, else 4)\n",
        "\n",
        "16 schoolsup - extra educational support (binary: yes or no)\n",
        "\n",
        "17 famsup - family educational support (binary: yes or no)\n",
        "\n",
        "18 paid - extra paid classes within the course subject (Math or Portuguese) (binary: yes or no)\n",
        "\n",
        "19 activities - extra-curricular activities (binary: yes or no)\n",
        "\n",
        "20 nursery - attended nursery school (binary: yes or no)\n",
        "\n",
        "21 higher - wants to take higher education (binary: yes or no)\n",
        "\n",
        "22 internet - Internet access at home (binary: yes or no)\n",
        "\n",
        "23 romantic - with a romantic relationship (binary: yes or no)\n",
        "\n",
        "24 famrel - quality of family relationships (numeric: from 1 - very bad to 5 - excellent)\n",
        "\n",
        "25 freetime - free time after school (numeric: from 1 - very low to 5 - very high)\n",
        "\n",
        "26 goout - going out with friends (numeric: from 1 - very low to 5 - very high)\n",
        "\n",
        "27 Dalc - workday alcohol consumption (numeric: from 1 - very low to 5 - very high)\n",
        "\n",
        "28 Walc - weekend alcohol consumption (numeric: from 1 - very low to 5 - very high)\n",
        "\n",
        "29 health - current health status (numeric: from 1 - very bad to 5 - very good)\n",
        "\n",
        "30 absences - number of school absences (numeric: from 0 to 93)\n",
        "\n",
        "# these grades are related with the course subject, Math or Portuguese:\n",
        "\n",
        "31 G1 - first period grade (numeric: from 0 to 20)\n",
        "\n",
        "31 G2 - second period grade (numeric: from 0 to 20)\n",
        "\n",
        "32 G3 - final grade (numeric: from 0 to 20, output target)\n"
      ]
    },
    {
      "cell_type": "markdown",
      "metadata": {
        "id": "E15TtspDorbq"
      },
      "source": [
        "download-unzip data"
      ]
    },
    {
      "cell_type": "code",
      "metadata": {
        "id": "XOcFSUa2oUxh"
      },
      "source": [
        "!wget https://archive.ics.uci.edu/ml/machine-learning-databases/00320/student.zip\n",
        "!unzip student.zip"
      ],
      "execution_count": null,
      "outputs": []
    },
    {
      "cell_type": "markdown",
      "metadata": {
        "id": "YTehCzGZiXLt"
      },
      "source": [
        "imports"
      ]
    },
    {
      "cell_type": "code",
      "metadata": {
        "id": "4dlKYCOs2pAz"
      },
      "source": [
        "import pandas as pd\n",
        "import numpy as np\n",
        "import seaborn as sns\n",
        "import matplotlib.pyplot as plt\n",
        "from sklearn.feature_selection import  SelectKBest, f_regression"
      ],
      "execution_count": 2,
      "outputs": []
    },
    {
      "cell_type": "markdown",
      "metadata": {
        "id": "EPMZKeXEiNMK"
      },
      "source": [
        "load data"
      ]
    },
    {
      "cell_type": "code",
      "metadata": {
        "id": "w5loWGNn2pDO"
      },
      "source": [
        "df = pd.read_csv(\"student-mat.csv\", index_col=0, delimiter = \";\")"
      ],
      "execution_count": 3,
      "outputs": []
    },
    {
      "cell_type": "markdown",
      "metadata": {
        "id": "NLFwWh0ViUc8"
      },
      "source": [
        "print head"
      ]
    },
    {
      "cell_type": "code",
      "metadata": {
        "id": "FsiL7Mwu-AwG"
      },
      "source": [
        "df.head(5)"
      ],
      "execution_count": null,
      "outputs": []
    },
    {
      "cell_type": "markdown",
      "metadata": {
        "id": "arZ_B5MIiI0f"
      },
      "source": [
        "summary statistics"
      ]
    },
    {
      "cell_type": "code",
      "metadata": {
        "id": "_IATrrkPiJSR"
      },
      "source": [
        "df.describe()"
      ],
      "execution_count": null,
      "outputs": []
    },
    {
      "cell_type": "markdown",
      "metadata": {
        "id": "RO068TmOiCiE"
      },
      "source": [
        "check missing data"
      ]
    },
    {
      "cell_type": "code",
      "metadata": {
        "id": "_xiH4ToB2pF0"
      },
      "source": [
        "df.info()"
      ],
      "execution_count": null,
      "outputs": []
    },
    {
      "cell_type": "markdown",
      "metadata": {
        "id": "UNgvab7LiAlZ"
      },
      "source": [
        "check duplicates"
      ]
    },
    {
      "cell_type": "code",
      "metadata": {
        "id": "oNURYXZPD8Z_"
      },
      "source": [
        "df[df.duplicated()]"
      ],
      "execution_count": null,
      "outputs": []
    },
    {
      "cell_type": "markdown",
      "metadata": {
        "id": "jbn_brmw_J1a"
      },
      "source": [
        "correlation between numeric attributes"
      ]
    },
    {
      "cell_type": "code",
      "metadata": {
        "id": "9a3YfWNU01sM"
      },
      "source": [
        "num_cols = df._get_numeric_data().columns\n",
        "for cor in num_cols:\n",
        "    corelation = df.corrwith(df[cor])\n",
        "    sorted_indexes = abs(corelation).argsort()\n",
        "    correlated = corelation[sorted_indexes][::-1]\n",
        "    print(correlated, end=\"\\n\\n\")"
      ],
      "execution_count": null,
      "outputs": []
    },
    {
      "cell_type": "markdown",
      "metadata": {
        "id": "k_1vTV28qYNg"
      },
      "source": [
        "  correlation between final grade and other numeric attributes"
      ]
    },
    {
      "cell_type": "code",
      "metadata": {
        "id": "wteIyTbU2pIP"
      },
      "source": [
        "corelation = df.drop(['G1', 'G2', 'G3'], axis=1).corrwith(df['G3'])\n",
        "sorted_indexes = abs(corelation).argsort()\n",
        "correlated = corelation[sorted_indexes][::-1]\n",
        "correlated"
      ],
      "execution_count": null,
      "outputs": []
    },
    {
      "cell_type": "markdown",
      "metadata": {
        "id": "WssQXzXtj59_"
      },
      "source": [
        "with SelectKBest"
      ]
    },
    {
      "cell_type": "code",
      "metadata": {
        "id": "i6Bo7JpbMDDK"
      },
      "source": [
        "x = df.select_dtypes(include=np.number)\n",
        "x = x.drop([\"G3\",\"G2\",\"G1\"], axis=1)\n",
        "y = df.loc[:,'G3']\n",
        "x = x.fillna(x.mean())\n",
        "\n",
        "selector = SelectKBest(f_regression, k=5)\n",
        "selector.fit(x, y)\n",
        "\n",
        "x.columns[selector.get_support(indices=True)]"
      ],
      "execution_count": null,
      "outputs": []
    },
    {
      "cell_type": "markdown",
      "metadata": {
        "id": "qk9W1T-cpXW-"
      },
      "source": [
        "scatter plots"
      ]
    },
    {
      "cell_type": "code",
      "metadata": {
        "id": "6vqV77TTIRXP"
      },
      "source": [
        "for cor in correlated[:5:].index:\n",
        "    fig, ax = plt.subplots()\n",
        "    ax.scatter(x = df[cor], y = df['G3'])\n",
        "    plt.ylabel('G3')\n",
        "    plt.xlabel(cor)"
      ],
      "execution_count": null,
      "outputs": []
    },
    {
      "cell_type": "markdown",
      "metadata": {
        "id": "XgkX1kAqpUv8"
      },
      "source": [
        "histograms"
      ]
    },
    {
      "cell_type": "code",
      "metadata": {
        "id": "FYBYwYIuVh66"
      },
      "source": [
        "for cor in correlated[:5:].index:\n",
        "    fig, ax = plt.subplots()\n",
        "    ax.hist(df[cor])\n",
        "    ax.title.set_text(cor)"
      ],
      "execution_count": null,
      "outputs": []
    },
    {
      "cell_type": "markdown",
      "metadata": {
        "id": "2Gv_RAX6pz4M"
      },
      "source": [
        "box plots for categoricals"
      ]
    },
    {
      "cell_type": "code",
      "metadata": {
        "id": "9LR_hUZePXS9"
      },
      "source": [
        "num_cols = df._get_numeric_data().columns\n",
        "categorical_columns = list(set(df.columns) - set(num_cols))\n",
        "\n",
        "for categorical_column in categorical_columns:\n",
        "    f, ax = plt.subplots()\n",
        "    sns.boxplot(x=categorical_column, y=\"G3\", data= df)"
      ],
      "execution_count": null,
      "outputs": []
    }
  ]
}