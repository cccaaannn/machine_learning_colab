{
  "nbformat": 4,
  "nbformat_minor": 0,
  "metadata": {
    "colab": {
      "name": "data_mining_hw3",
      "provenance": [],
      "collapsed_sections": [],
      "authorship_tag": "ABX9TyMUvaSxNvvR8qRTEzr2KY52",
      "include_colab_link": true
    },
    "kernelspec": {
      "name": "python3",
      "display_name": "Python 3"
    }
  },
  "cells": [
    {
      "cell_type": "markdown",
      "metadata": {
        "id": "view-in-github",
        "colab_type": "text"
      },
      "source": [
        "<a href=\"https://colab.research.google.com/github/cccaaannn/machine_learning_colab/blob/master/feature_selection/data_mining_hw3.ipynb\" target=\"_parent\"><img src=\"https://colab.research.google.com/assets/colab-badge.svg\" alt=\"Open In Colab\"/></a>"
      ]
    },
    {
      "cell_type": "markdown",
      "metadata": {
        "id": "ae-V4qaGhO4R"
      },
      "source": [
        "Feature selection methods"
      ]
    },
    {
      "cell_type": "markdown",
      "metadata": {
        "id": "OwSK-WXIipBC"
      },
      "source": [
        "![](https://3qeqpr26caki16dnhd19sv6by6v-wpengine.netdna-ssl.com/wp-content/uploads/2019/11/How-to-Choose-Feature-Selection-Methods-For-Machine-Learning.png)  "
      ]
    },
    {
      "cell_type": "markdown",
      "metadata": {
        "id": "E15TtspDorbq"
      },
      "source": [
        "download-unzip data"
      ]
    },
    {
      "cell_type": "code",
      "metadata": {
        "id": "XOcFSUa2oUxh"
      },
      "source": [
        "!wget https://archive.ics.uci.edu/ml/machine-learning-databases/00320/student.zip\n",
        "!unzip student.zip"
      ],
      "execution_count": null,
      "outputs": []
    },
    {
      "cell_type": "markdown",
      "metadata": {
        "id": "YTehCzGZiXLt"
      },
      "source": [
        "imports"
      ]
    },
    {
      "cell_type": "code",
      "metadata": {
        "id": "4dlKYCOs2pAz"
      },
      "source": [
        "import pandas as pd\n",
        "import numpy as np\n",
        "import seaborn as sns\n",
        "import matplotlib.pyplot as plt\n",
        "\n",
        "from scipy.stats import stats"
      ],
      "execution_count": 1,
      "outputs": []
    },
    {
      "cell_type": "markdown",
      "metadata": {
        "id": "EPMZKeXEiNMK"
      },
      "source": [
        "load data"
      ]
    },
    {
      "cell_type": "code",
      "metadata": {
        "id": "w5loWGNn2pDO"
      },
      "source": [
        "df = pd.read_csv(\"student-mat.csv\", index_col=0, delimiter = \";\")"
      ],
      "execution_count": 4,
      "outputs": []
    },
    {
      "cell_type": "markdown",
      "metadata": {
        "id": "NLFwWh0ViUc8"
      },
      "source": [
        "print head"
      ]
    },
    {
      "cell_type": "code",
      "metadata": {
        "id": "FsiL7Mwu-AwG"
      },
      "source": [
        "df.head(5)"
      ],
      "execution_count": null,
      "outputs": []
    },
    {
      "cell_type": "markdown",
      "metadata": {
        "id": "B3CJoxg93zVU"
      },
      "source": [
        "Options"
      ]
    },
    {
      "cell_type": "code",
      "metadata": {
        "id": "yxf6mjCQ2r_Q"
      },
      "source": [
        "p_value_threshold = 0.05"
      ],
      "execution_count": 5,
      "outputs": []
    },
    {
      "cell_type": "markdown",
      "metadata": {
        "id": "4jug-6aTnI3N"
      },
      "source": [
        "Pearson "
      ]
    },
    {
      "cell_type": "code",
      "metadata": {
        "id": "PifvzS0lsJ7c"
      },
      "source": [
        "num_cols = df.drop([\"G3\",\"G2\",\"G1\"], axis=1)._get_numeric_data().columns\n",
        "pearson_corrs = []\n",
        "for col in num_cols:\n",
        "    s = stats.pearsonr(df[col], df['G3'])\n",
        "    if(s[1] < p_value_threshold):\n",
        "        pearson_corrs.append((col, s[0], s[1]))\n",
        "\n",
        "pearson_corrs = sorted(pearson_corrs, reverse=True, key=lambda tup: abs(tup[1]))\n",
        "\n",
        "for i in pearson_corrs:\n",
        "    print(\"columns: {0:<12} correlation: {1:<22} p-values: {2:<22}\".format(i[0], i[1], i[2]))"
      ],
      "execution_count": null,
      "outputs": []
    },
    {
      "cell_type": "markdown",
      "metadata": {
        "id": "w5gahTxMm1Dl"
      },
      "source": [
        "Spearman"
      ]
    },
    {
      "cell_type": "code",
      "metadata": {
        "id": "23AnZeVVwomu"
      },
      "source": [
        "num_cols = df.drop([\"G3\",\"G2\",\"G1\"], axis=1)._get_numeric_data().columns\n",
        "spearmar_corrs = []\n",
        "for col in num_cols:\n",
        "    s = stats.spearmanr(df[col], df['G3'])\n",
        "    if(s[1] < p_value_threshold):\n",
        "        spearmar_corrs.append((col, s[0], s[1]))\n",
        "\n",
        "spearmar_corrs = sorted(spearmar_corrs, reverse=True, key=lambda tup: abs(tup[1]))\n",
        "\n",
        "for i in spearmar_corrs:\n",
        "    print(\"columns: {0:<12} correlation: {1:<22} p-values: {2:<22}\".format(i[0], i[1], i[2]))"
      ],
      "execution_count": null,
      "outputs": []
    },
    {
      "cell_type": "markdown",
      "metadata": {
        "id": "lYjg7eXWmzOF"
      },
      "source": [
        "Kendall"
      ]
    },
    {
      "cell_type": "code",
      "metadata": {
        "id": "0uIN2LYE2GyH"
      },
      "source": [
        "num_cols = df.drop([\"G3\",\"G2\",\"G1\"], axis=1)._get_numeric_data().columns\n",
        "kendall_corrs = []\n",
        "for col in num_cols:\n",
        "    s = stats.kendalltau(df[col], df['G3'])\n",
        "    if(s[1] < p_value_threshold):\n",
        "        kendall_corrs.append((col, s[0], s[1]))\n",
        "        \n",
        "kendall_corrs = sorted(kendall_corrs, reverse=True, key=lambda tup: abs(tup[1]))\n",
        "\n",
        "for i in kendall_corrs:\n",
        "    print(\"columns: {0:<12} correlation: {1:<22} p-values: {2:<22}\".format(i[0], i[1], i[2]))"
      ],
      "execution_count": null,
      "outputs": []
    },
    {
      "cell_type": "markdown",
      "metadata": {
        "id": "Un6iQrNdKvPi"
      },
      "source": [
        "f-value"
      ]
    },
    {
      "cell_type": "code",
      "metadata": {
        "id": "PLXhf-jkFTfw"
      },
      "source": [
        "cols = df.columns\n",
        "num_cols = df._get_numeric_data().columns\n",
        "\n",
        "categorical_cols = list(set(cols) - set(num_cols))\n",
        "\n",
        "f_value_corrs = []\n",
        "for categorical_col in categorical_cols:\n",
        "    groups = []\n",
        "    column_categories = df[categorical_col].unique()\n",
        "    for column_category in column_categories:\n",
        "        groups.append(df[df[categorical_col] == column_category].age)\n",
        "\n",
        "    f, p = stats.f_oneway(*groups)\n",
        "    if(p < p_value_threshold):\n",
        "        f_value_corrs.append((categorical_col, f, p, \", \".join(list(column_categories))))\n",
        "\n",
        "\n",
        "\n",
        "f_value_corrs = sorted(f_value_corrs, reverse=True, key=lambda tup: abs(tup[1]))\n",
        "\n",
        "for i in f_value_corrs:\n",
        "    print(\"columns: {0:<12} correlation: {1:<20} p-values: {2:<22} categories: {3:<22}\".format(i[0], i[1], i[2], i[3]))\n"
      ],
      "execution_count": null,
      "outputs": []
    }
  ]
}